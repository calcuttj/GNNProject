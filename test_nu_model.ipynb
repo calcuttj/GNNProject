{
 "cells": [
  {
   "cell_type": "code",
   "execution_count": 1,
   "id": "517d92c2",
   "metadata": {},
   "outputs": [],
   "source": [
    "import NuFeatures\n",
    "import model\n",
    "import torch"
   ]
  },
  {
   "cell_type": "code",
   "execution_count": 2,
   "id": "1fc0e545",
   "metadata": {},
   "outputs": [],
   "source": [
    "nf = NuFeatures.NuFeatures('try_nu.h5')"
   ]
  },
  {
   "cell_type": "code",
   "execution_count": 4,
   "id": "e1f6dea4",
   "metadata": {},
   "outputs": [],
   "source": [
    "m = model.NuModel()"
   ]
  },
  {
   "cell_type": "code",
   "execution_count": 5,
   "id": "7c922898",
   "metadata": {},
   "outputs": [],
   "source": [
    "from torch_geometric.loader import DataLoader\n",
    "loader = DataLoader(nf,\n",
    "                    shuffle     = False,\n",
    "                    num_workers = 0,\n",
    "                    batch_size  = 10\n",
    "                    )"
   ]
  },
  {
   "cell_type": "code",
   "execution_count": 6,
   "id": "086617f6",
   "metadata": {},
   "outputs": [],
   "source": [
    "data = next(iter(loader))"
   ]
  },
  {
   "cell_type": "code",
   "execution_count": 17,
   "id": "1d859768",
   "metadata": {},
   "outputs": [],
   "source": [
    "nout = sum(m.branches.values())"
   ]
  },
  {
   "cell_type": "code",
   "execution_count": 18,
   "id": "34b2da2c",
   "metadata": {},
   "outputs": [
    {
     "data": {
      "text/plain": [
       "tensor([0., 0., 0., 0., 0.])"
      ]
     },
     "execution_count": 18,
     "metadata": {},
     "output_type": "execute_result"
    }
   ],
   "source": [
    "data.y.reshape((-1,nout))[:,0]"
   ]
  },
  {
   "cell_type": "code",
   "execution_count": 19,
   "id": "4d7ab653",
   "metadata": {},
   "outputs": [
    {
     "data": {
      "text/plain": [
       "tensor([1, 3, 3, 1, 1])"
      ]
     },
     "execution_count": 19,
     "metadata": {},
     "output_type": "execute_result"
    }
   ],
   "source": [
    "data.y.reshape((-1,nout))[:,1:5].argmax(axis=1)"
   ]
  },
  {
   "cell_type": "code",
   "execution_count": 20,
   "id": "e9da6694",
   "metadata": {},
   "outputs": [
    {
     "data": {
      "text/plain": [
       "tensor([2, 2, 2, 2, 3])"
      ]
     },
     "execution_count": 20,
     "metadata": {},
     "output_type": "execute_result"
    }
   ],
   "source": [
    "data.y.reshape((-1,nout))[:,5:9].argmax(axis=1)"
   ]
  },
  {
   "cell_type": "code",
   "execution_count": 23,
   "id": "6f6f906f",
   "metadata": {},
   "outputs": [
    {
     "data": {
      "text/plain": [
       "tensor([0, 0, 0, 0, 0])"
      ]
     },
     "execution_count": 23,
     "metadata": {},
     "output_type": "execute_result"
    }
   ],
   "source": [
    "data.y.reshape((-1,nout))[:,9:13].argmax(axis=1)"
   ]
  },
  {
   "cell_type": "code",
   "execution_count": 24,
   "id": "539870d3",
   "metadata": {},
   "outputs": [
    {
     "data": {
      "text/plain": [
       "tensor([0, 0, 0, 0, 0])"
      ]
     },
     "execution_count": 24,
     "metadata": {},
     "output_type": "execute_result"
    }
   ],
   "source": [
    "data.y.reshape((-1,nout))[:,13:17].argmax(axis=1)"
   ]
  },
  {
   "cell_type": "code",
   "execution_count": 25,
   "id": "9914948b",
   "metadata": {},
   "outputs": [
    {
     "data": {
      "text/plain": [
       "tensor([0, 0, 0, 0, 0])"
      ]
     },
     "execution_count": 25,
     "metadata": {},
     "output_type": "execute_result"
    }
   ],
   "source": [
    "data.y.reshape((-1,nout))[:,17:21].argmax(axis=1)"
   ]
  },
  {
   "cell_type": "code",
   "execution_count": 26,
   "id": "e622c6c4",
   "metadata": {},
   "outputs": [
    {
     "data": {
      "text/plain": [
       "tensor([1, 1, 1, 1, 0])"
      ]
     },
     "execution_count": 26,
     "metadata": {},
     "output_type": "execute_result"
    }
   ],
   "source": [
    "data.y.reshape((-1,nout))[:,21:].argmax(axis=1)"
   ]
  },
  {
   "cell_type": "code",
   "execution_count": 27,
   "id": "5e82efb0",
   "metadata": {},
   "outputs": [],
   "source": [
    "x = m(data, data.batch)"
   ]
  },
  {
   "cell_type": "code",
   "execution_count": 34,
   "id": "13279199",
   "metadata": {},
   "outputs": [
    {
     "data": {
      "text/plain": [
       "{'sign': tensor([[0.5061],\n",
       "         [0.5487],\n",
       "         [0.4749],\n",
       "         [0.3616],\n",
       "         [0.5688]], grad_fn=<SigmoidBackward0>),\n",
       " 'flavor': tensor([[0.1861, 0.3434, 0.2469, 0.2235],\n",
       "         [0.2181, 0.3033, 0.2366, 0.2420],\n",
       "         [0.3318, 0.2033, 0.2746, 0.1903],\n",
       "         [0.3512, 0.1587, 0.1930, 0.2972],\n",
       "         [0.2189, 0.2360, 0.2518, 0.2933]], grad_fn=<SoftmaxBackward0>),\n",
       " 'mode': tensor([[0.2413, 0.1986, 0.3294, 0.2307],\n",
       "         [0.2075, 0.2065, 0.2109, 0.3751],\n",
       "         [0.3507, 0.2148, 0.2057, 0.2288],\n",
       "         [0.2836, 0.2523, 0.2709, 0.1931],\n",
       "         [0.2116, 0.3172, 0.2672, 0.2039]], grad_fn=<SoftmaxBackward0>),\n",
       " 'protons': tensor([[0.1471, 0.1441, 0.3513, 0.3575],\n",
       "         [0.2683, 0.3292, 0.1806, 0.2219],\n",
       "         [0.2811, 0.3224, 0.2370, 0.1595],\n",
       "         [0.1604, 0.1737, 0.3428, 0.3231],\n",
       "         [0.2530, 0.2534, 0.1396, 0.3540]], grad_fn=<SoftmaxBackward0>),\n",
       " 'pions': tensor([[0.2265, 0.2199, 0.1654, 0.3881],\n",
       "         [0.2304, 0.3180, 0.2623, 0.1893],\n",
       "         [0.2123, 0.3066, 0.2371, 0.2439],\n",
       "         [0.1749, 0.4188, 0.2240, 0.1822],\n",
       "         [0.2974, 0.0982, 0.3087, 0.2957]], grad_fn=<SoftmaxBackward0>),\n",
       " 'pi0s': tensor([[0.2841, 0.2273, 0.2445, 0.2441],\n",
       "         [0.2502, 0.2459, 0.3100, 0.1938],\n",
       "         [0.2941, 0.2492, 0.2675, 0.1893],\n",
       "         [0.2033, 0.3159, 0.2898, 0.1910],\n",
       "         [0.1914, 0.3493, 0.1265, 0.3328]], grad_fn=<SoftmaxBackward0>),\n",
       " 'neutrons': tensor([[0.2438, 0.2369, 0.2631, 0.2561],\n",
       "         [0.2398, 0.2736, 0.2753, 0.2113],\n",
       "         [0.1477, 0.3087, 0.3053, 0.2383],\n",
       "         [0.1879, 0.1330, 0.3223, 0.3568],\n",
       "         [0.3774, 0.2071, 0.1700, 0.2455]], grad_fn=<SoftmaxBackward0>)}"
      ]
     },
     "execution_count": 34,
     "metadata": {},
     "output_type": "execute_result"
    }
   ],
   "source": [
    "x"
   ]
  },
  {
   "cell_type": "code",
   "execution_count": 33,
   "id": "e1ffafa5",
   "metadata": {},
   "outputs": [
    {
     "data": {
      "text/plain": [
       "tensor([[1.],\n",
       "        [1.],\n",
       "        [0.],\n",
       "        [0.],\n",
       "        [1.]], grad_fn=<RoundBackward0>)"
      ]
     },
     "execution_count": 33,
     "metadata": {},
     "output_type": "execute_result"
    }
   ],
   "source": [
    "torch.round(x['sign'])"
   ]
  },
  {
   "cell_type": "code",
   "execution_count": 35,
   "id": "2372e79c",
   "metadata": {
    "scrolled": true
   },
   "outputs": [],
   "source": [
    "vals = {n:v.argmax(axis=1) for n,v in x.items()}"
   ]
  },
  {
   "cell_type": "code",
   "execution_count": 36,
   "id": "08883550",
   "metadata": {},
   "outputs": [
    {
     "data": {
      "text/plain": [
       "{'sign': tensor([0, 0, 0, 0, 0]),\n",
       " 'flavor': tensor([1, 1, 0, 0, 3]),\n",
       " 'mode': tensor([2, 3, 0, 0, 1]),\n",
       " 'protons': tensor([3, 1, 1, 2, 3]),\n",
       " 'pions': tensor([3, 1, 1, 1, 2]),\n",
       " 'pi0s': tensor([0, 2, 0, 1, 1]),\n",
       " 'neutrons': tensor([2, 2, 1, 3, 0])}"
      ]
     },
     "execution_count": 36,
     "metadata": {},
     "output_type": "execute_result"
    }
   ],
   "source": [
    "vals"
   ]
  },
  {
   "cell_type": "code",
   "execution_count": null,
   "id": "b09f5a9a",
   "metadata": {},
   "outputs": [],
   "source": []
  }
 ],
 "metadata": {
  "kernelspec": {
   "display_name": "Python 3 (ipykernel)",
   "language": "python",
   "name": "python3"
  },
  "language_info": {
   "codemirror_mode": {
    "name": "ipython",
    "version": 3
   },
   "file_extension": ".py",
   "mimetype": "text/x-python",
   "name": "python",
   "nbconvert_exporter": "python",
   "pygments_lexer": "ipython3",
   "version": "3.8.10"
  }
 },
 "nbformat": 4,
 "nbformat_minor": 5
}
