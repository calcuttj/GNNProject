{
 "cells": [
  {
   "cell_type": "code",
   "execution_count": 1,
   "id": "4c511ec5",
   "metadata": {},
   "outputs": [],
   "source": [
    "import model, BeamFeatures\n",
    "import torch\n",
    "import matplotlib.pyplot as plt, numpy as np\n",
    "# m = model.GNNModel(outdim=4)\n",
    "# checkpoint = torch.load('test.cpt')\n",
    "# m.load_state_dict(checkpoint['model_state_dict'])\n",
    "bf = BeamFeatures.BeamFeatures('/home/jake/GNN_work/data/1_9_23_pdgs/merged_train.h5', style='pdgs', ave_charge=True)"
   ]
  },
  {
   "cell_type": "code",
   "execution_count": 2,
   "id": "69f845e7",
   "metadata": {},
   "outputs": [],
   "source": [
    "data = bf[0]"
   ]
  },
  {
   "cell_type": "code",
   "execution_count": 13,
   "id": "f3915dd8",
   "metadata": {},
   "outputs": [
    {
     "data": {
      "text/plain": [
       "Data(x=[338, 4], edge_index=[2, 1690], edge_attr=[1690, 8], y=[1, 4], index=0)"
      ]
     },
     "execution_count": 13,
     "metadata": {},
     "output_type": "execute_result"
    }
   ],
   "source": [
    "data"
   ]
  },
  {
   "cell_type": "code",
   "execution_count": 12,
   "id": "47558672",
   "metadata": {},
   "outputs": [
    {
     "name": "stdout",
     "output_type": "stream",
     "text": [
      "tensor([[-4.2230e-01, -4.7999e+00,  0.0000e+00, -6.7656e+02,  5.8544e+02,\n",
      "          5.7631e+01, -3.3381e+00,  2.0139e+01],\n",
      "        [-3.0005e-01, -5.5999e+00,  0.0000e+00, -6.7662e+02,  5.8584e+02,\n",
      "          5.7631e+01, -2.2978e+00,  1.9619e+01],\n",
      "        [-3.4027e-01,  3.2799e+02,  0.0000e+00, -6.7660e+02,  4.1905e+02,\n",
      "          5.7631e+01, -5.0378e+00,  2.0989e+01]])\n",
      "tensor([[0, 0, 0],\n",
      "        [1, 2, 3]])\n"
     ]
    }
   ],
   "source": [
    "print(data.edge_attr[:3])\n",
    "print(data.edge_index[:,:3])"
   ]
  },
  {
   "cell_type": "code",
   "execution_count": 5,
   "id": "b6649da7",
   "metadata": {},
   "outputs": [],
   "source": [
    "# import h5py as h5\n",
    "# f = h5.File('/home/jake/GNN_work/data/1_9_23_pdgs/merged.h5', 'r')"
   ]
  },
  {
   "cell_type": "code",
   "execution_count": 6,
   "id": "47bdc128",
   "metadata": {},
   "outputs": [
    {
     "data": {
      "text/plain": [
       "array([ 2.1029968e+01, -1.3399644e+02, -4.1689224e+01,  2.5555447e+01,\n",
       "        0.0000000e+00,  0.0000000e+00,  5.7485104e-02,  0.0000000e+00,\n",
       "        0.0000000e+00,  4.0002701e+01,  0.0000000e+00,  0.0000000e+00,\n",
       "        0.0000000e+00,  1.0000000e+00], dtype=float32)"
      ]
     },
     "execution_count": 6,
     "metadata": {},
     "output_type": "execute_result"
    }
   ],
   "source": [
    "# f['edge_features'][0]"
   ]
  },
  {
   "cell_type": "code",
   "execution_count": null,
   "id": "ebdc1a9a",
   "metadata": {},
   "outputs": [],
   "source": []
  }
 ],
 "metadata": {
  "kernelspec": {
   "display_name": "Python 3 (ipykernel)",
   "language": "python",
   "name": "python3"
  },
  "language_info": {
   "codemirror_mode": {
    "name": "ipython",
    "version": 3
   },
   "file_extension": ".py",
   "mimetype": "text/x-python",
   "name": "python",
   "nbconvert_exporter": "python",
   "pygments_lexer": "ipython3",
   "version": "3.8.10"
  }
 },
 "nbformat": 4,
 "nbformat_minor": 5
}
