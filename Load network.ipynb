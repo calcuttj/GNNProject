{
 "cells": [
  {
   "cell_type": "code",
   "execution_count": 1,
   "id": "0fb3fc09",
   "metadata": {},
   "outputs": [],
   "source": [
    "import model, BeamFeatures\n",
    "import torch\n",
    "import matplotlib.pyplot as plt, numpy as np\n",
    "# m = model.GNNModel(outdim=4, edge_input=8, node_input=4)\n",
    "m = model.GNNModel(outdim=4)\n",
    "checkpoint = torch.load('test3.cpt')\n",
    "m.load_state_dict(checkpoint['model_state_dict'])\n",
    "# bf = BeamFeatures.BeamFeatures('/home/jake/GNN_work/data/1_9_23_pdgs/merged_val.h5', style='pdgs', ave_charge=True)\n",
    "bf = BeamFeatures.BeamFeatures('/home/jake/GNN_work/data/1_9_23_pdgs/merged_val.h5', style='pdgs')"
   ]
  },
  {
   "cell_type": "code",
   "execution_count": 2,
   "id": "0d9d46b5",
   "metadata": {},
   "outputs": [],
   "source": [
    "from torch_geometric.loader import DataLoader\n",
    "loader = DataLoader(bf,\n",
    "                    shuffle     = True,\n",
    "                    num_workers = 0,\n",
    "                    batch_size  = 64\n",
    "                    )"
   ]
  },
  {
   "cell_type": "code",
   "execution_count": 3,
   "id": "3cef4cf0",
   "metadata": {},
   "outputs": [],
   "source": [
    "# data = next(iter(loader))\n"
   ]
  },
  {
   "cell_type": "code",
   "execution_count": null,
   "id": "11357f31",
   "metadata": {},
   "outputs": [],
   "source": []
  },
  {
   "cell_type": "code",
   "execution_count": 4,
   "id": "1fc04311",
   "metadata": {},
   "outputs": [],
   "source": [
    "import numpy as np"
   ]
  },
  {
   "cell_type": "code",
   "execution_count": 5,
   "id": "445f6d0e",
   "metadata": {},
   "outputs": [],
   "source": [
    "from train import get_confusion"
   ]
  },
  {
   "cell_type": "code",
   "execution_count": 6,
   "id": "5203c4b3",
   "metadata": {},
   "outputs": [],
   "source": [
    "get_confusion?"
   ]
  },
  {
   "cell_type": "code",
   "execution_count": 7,
   "id": "b02eaba1",
   "metadata": {},
   "outputs": [],
   "source": [
    "conf = np.zeros((4,4))"
   ]
  },
  {
   "cell_type": "code",
   "execution_count": 8,
   "id": "0730712f",
   "metadata": {},
   "outputs": [],
   "source": [
    "# for data in loader:\n",
    "#     x = m(data, data.batch)\n",
    "#     conf += get_confusion(data, x)"
   ]
  },
  {
   "cell_type": "code",
   "execution_count": 9,
   "id": "a7ea239c",
   "metadata": {},
   "outputs": [
    {
     "name": "stderr",
     "output_type": "stream",
     "text": [
      "/tmp/ipykernel_33894/1312150843.py:1: RuntimeWarning: invalid value encountered in divide\n",
      "  new_conf = conf / np.sum(conf, axis=1)\n"
     ]
    }
   ],
   "source": [
    "new_conf = conf / np.sum(conf, axis=1)"
   ]
  },
  {
   "cell_type": "code",
   "execution_count": 10,
   "id": "0e99e546",
   "metadata": {},
   "outputs": [
    {
     "data": {
      "text/plain": [
       "array([[0., 0., 0., 0.],\n",
       "       [0., 0., 0., 0.],\n",
       "       [0., 0., 0., 0.],\n",
       "       [0., 0., 0., 0.]])"
      ]
     },
     "execution_count": 10,
     "metadata": {},
     "output_type": "execute_result"
    }
   ],
   "source": [
    "conf"
   ]
  },
  {
   "cell_type": "code",
   "execution_count": 11,
   "id": "4bf1fae2",
   "metadata": {},
   "outputs": [
    {
     "name": "stdout",
     "output_type": "stream",
     "text": [
      "nan\n",
      "nan\n",
      "nan\n",
      "nan\n"
     ]
    }
   ],
   "source": [
    "for i in range(len(new_conf)):\n",
    "    print(np.sum(new_conf[i,:]))\n",
    "    new_conf[i,:] /= np.sum(new_conf[i,:])"
   ]
  },
  {
   "cell_type": "code",
   "execution_count": 12,
   "id": "9834bc2c",
   "metadata": {},
   "outputs": [
    {
     "data": {
      "text/plain": [
       "array([[nan, nan, nan, nan],\n",
       "       [nan, nan, nan, nan],\n",
       "       [nan, nan, nan, nan],\n",
       "       [nan, nan, nan, nan]])"
      ]
     },
     "execution_count": 12,
     "metadata": {},
     "output_type": "execute_result"
    },
    {
     "data": {
      "image/png": "[encoded data removed]",
      "text/plain": [
       "<Figure size 432x288 with 1 Axes>"
      ]
     },
     "metadata": {
      "needs_background": "light"
     },
     "output_type": "display_data"
    }
   ],
   "source": [
    "plt.imshow(new_conf)\n",
    "new_conf"
   ]
  },
  {
   "cell_type": "code",
   "execution_count": 13,
   "id": "50428b1c",
   "metadata": {},
   "outputs": [
    {
     "ename": "NameError",
     "evalue": "name 'new_conf2' is not defined",
     "output_type": "error",
     "traceback": [
      "\u001b[0;31m---------------------------------------------------------------------------\u001b[0m",
      "\u001b[0;31mNameError\u001b[0m                                 Traceback (most recent call last)",
      "Input \u001b[0;32mIn [13]\u001b[0m, in \u001b[0;36m<cell line: 1>\u001b[0;34m()\u001b[0m\n\u001b[0;32m----> 1\u001b[0m \u001b[38;5;28;01mfor\u001b[39;00m i \u001b[38;5;129;01min\u001b[39;00m \u001b[38;5;28mrange\u001b[39m(\u001b[38;5;28mlen\u001b[39m(\u001b[43mnew_conf2\u001b[49m)):\n\u001b[1;32m      2\u001b[0m     \u001b[38;5;28mprint\u001b[39m(np\u001b[38;5;241m.\u001b[39msum(new_conf2[:,i]))\n\u001b[1;32m      3\u001b[0m     new_conf[:,i] \u001b[38;5;241m/\u001b[39m\u001b[38;5;241m=\u001b[39m np\u001b[38;5;241m.\u001b[39msum(new_conf[:,i])\n",
      "\u001b[0;31mNameError\u001b[0m: name 'new_conf2' is not defined"
     ]
    }
   ],
   "source": [
    "for i in range(len(new_conf2)):\n",
    "    print(np.sum(new_conf2[:,i]))\n",
    "    new_conf[:,i] /= np.sum(new_conf[:,i])"
   ]
  },
  {
   "cell_type": "code",
   "execution_count": 14,
   "id": "2a9bba04",
   "metadata": {},
   "outputs": [
    {
     "ename": "NameError",
     "evalue": "name 'new_conf2' is not defined",
     "output_type": "error",
     "traceback": [
      "\u001b[0;31m---------------------------------------------------------------------------\u001b[0m",
      "\u001b[0;31mNameError\u001b[0m                                 Traceback (most recent call last)",
      "Input \u001b[0;32mIn [14]\u001b[0m, in \u001b[0;36m<cell line: 1>\u001b[0;34m()\u001b[0m\n\u001b[0;32m----> 1\u001b[0m plt\u001b[38;5;241m.\u001b[39mimshow(\u001b[43mnew_conf2\u001b[49m)\n\u001b[1;32m      2\u001b[0m new_conf2\n",
      "\u001b[0;31mNameError\u001b[0m: name 'new_conf2' is not defined"
     ]
    }
   ],
   "source": [
    "plt.imshow(new_conf2)\n",
    "new_conf2"
   ]
  },
  {
   "cell_type": "code",
   "execution_count": 25,
   "id": "3262449c",
   "metadata": {
    "scrolled": true
   },
   "outputs": [
    {
     "data": {
      "text/plain": [
       "[<matplotlib.lines.Line2D at 0x7f49955c8340>]"
      ]
     },
     "execution_count": 25,
     "metadata": {},
     "output_type": "execute_result"
    },
    {
     "data": {
      "image/png": "[encoded data removed]",
      "text/plain": [
       "<Figure size 432x288 with 1 Axes>"
      ]
     },
     "metadata": {
      "needs_background": "light"
     },
     "output_type": "display_data"
    }
   ],
   "source": [
    "import h5py as h5\n",
    "f = h5.File('try5_pdgs.h5', 'r')\n",
    "\n",
    "plt.plot(f['losses'][:])\n",
    "plt.plot([0, len(f['losses'])], f['test_ave_losses'][:])"
   ]
  },
  {
   "cell_type": "code",
   "execution_count": 27,
   "id": "ebb0abb8",
   "metadata": {},
   "outputs": [
    {
     "data": {
      "text/plain": [
       "array([[1.40431356, 1.3250972 , 1.28276753, 1.20365608, 1.27240765,\n",
       "        1.19207478, 1.17591977, 1.10206473, 1.08601904, 1.08184421,\n",
       "        1.08582461, 1.07979834, 1.04394579, 1.04275358, 1.07034361,\n",
       "        1.04523873, 0.93340236, 1.036075  , 0.96414942, 1.10254753,\n",
       "        0.99721587, 0.99712026, 0.98324847, 0.94760996, 0.87279522,\n",
       "        0.96522987, 0.97797221, 0.9552418 , 0.90715152, 0.88377661,\n",
       "        0.91831154, 0.95131212, 0.87284768, 0.91301227, 0.94502729,\n",
       "        0.86701423, 0.8872782 , 0.89397657, 0.95511699, 0.91427314,\n",
       "        0.85156769, 0.89585108, 0.87344879, 0.92365807, 0.85448593,\n",
       "        0.8980214 , 0.91755289, 0.94547516, 0.92013341, 0.89688289,\n",
       "        0.88127309, 0.9207142 , 0.85705024, 0.94367325, 0.89155287,\n",
       "        0.89900255, 0.84994364, 0.96275872, 0.84335995, 0.93469048,\n",
       "        0.86912572, 0.84004891, 0.92449903, 0.88178247, 0.91768527,\n",
       "        0.88278687, 0.87181461, 0.89950478, 0.92435741, 0.86163527,\n",
       "        0.86790782, 0.95283335, 0.91498309, 0.91733646, 0.8542093 ,\n",
       "        0.88782001, 0.92300981, 0.85682148, 0.84938949, 0.84297466,\n",
       "        0.85139954, 0.84925145, 0.90752757, 0.89240026, 0.92195433,\n",
       "        0.89037055, 0.85977882, 0.84594172, 0.95114571, 0.86585116,\n",
       "        0.89132559, 0.84096473, 0.86250591, 0.87506443, 0.81279433,\n",
       "        0.83798325, 0.8577683 , 0.85005236, 0.88496751, 0.9163456 ,\n",
       "        0.88920939, 0.82006997, 0.86855054, 0.92925823, 0.8658067 ,\n",
       "        0.80517381, 0.90929365, 0.85286677, 0.84793359, 0.833574  ,\n",
       "        0.86122251, 0.88202798, 0.85724211, 0.85175526, 0.96800405,\n",
       "        0.8792432 , 0.84981889, 0.83899349, 0.93071669, 0.92483974,\n",
       "        0.87416834, 0.85103005, 0.97206134, 0.9145999 , 0.89916444,\n",
       "        0.90830207, 0.8839764 , 0.87712431, 0.82650757, 0.85878742,\n",
       "        0.88233668, 0.81940728, 0.86072361, 0.94663543, 0.88098729,\n",
       "        0.87711835, 0.91981596, 0.89873952, 0.84358948, 0.85469937,\n",
       "        0.93708962, 0.89700222, 0.87292016, 0.8637464 , 0.88956892,\n",
       "        0.84933954, 0.85086328, 0.83946025, 0.85850567, 0.85824305,\n",
       "        0.9149071 , 0.92451817, 0.85301048, 0.86750454, 0.91499043,\n",
       "        0.86246592, 0.85375261, 0.87782156, 0.88122106, 0.8794319 ,\n",
       "        0.90552914, 0.91274524, 0.92201853, 0.86863458, 0.9390763 ,\n",
       "        0.88509178, 0.90882742, 0.88493448, 0.86756814, 0.90506256,\n",
       "        0.93260014, 0.89165092, 0.85327864, 0.82551062, 0.83341187,\n",
       "        0.86297733, 0.83763367, 0.8558166 , 0.88898486, 0.96927696,\n",
       "        0.85619169, 0.86882991, 0.92429894, 0.95087278, 0.8674174 ,\n",
       "        0.86857218, 0.84201837, 0.88351423, 0.87286341, 0.81656832,\n",
       "        0.89778244, 0.91658002, 0.89600015, 0.8993845 , 0.94235712,\n",
       "        0.92953146, 0.89663541, 0.8552627 , 0.87056959, 0.92128712,\n",
       "        0.86022329, 0.90094179, 0.90364122, 0.8562156 , 0.86343855,\n",
       "        0.94525212, 0.88685036, 0.97284091, 0.830706  , 0.8750689 ,\n",
       "        0.84458816, 0.90833992, 0.87333798, 0.91567451, 0.88792843,\n",
       "        0.87836957, 0.82676429, 0.91947788, 0.93209988, 0.86794257,\n",
       "        0.84586489, 0.83819175, 0.87628245, 0.89400631, 0.84706521,\n",
       "        0.83157766, 0.85669094, 0.85488081, 0.8479479 , 0.8831014 ,\n",
       "        0.90464389, 0.87671214, 0.86647111, 0.88276666, 0.88761514,\n",
       "        0.8637026 , 0.96345603, 0.83637375, 0.85591042, 0.90003294,\n",
       "        0.93875337, 0.8577078 , 0.89178401, 0.82639593, 0.89629942,\n",
       "        0.82401133, 0.8560431 , 0.81974649, 0.84690452, 0.9594388 ,\n",
       "        0.89305973, 0.88456917, 0.84661251, 0.89308596, 0.87351763,\n",
       "        0.88240939, 0.85425246, 0.84511209]])"
      ]
     },
     "execution_count": 27,
     "metadata": {},
     "output_type": "execute_result"
    }
   ],
   "source": [
    "f['losses'][:].reshape(1,-1).sha"
   ]
  },
  {
   "cell_type": "code",
   "execution_count": null,
   "id": "a4087a3e",
   "metadata": {},
   "outputs": [],
   "source": []
  }
 ],
 "metadata": {
  "kernelspec": {
   "display_name": "Python 3 (ipykernel)",
   "language": "python",
   "name": "python3"
  },
  "language_info": {
   "codemirror_mode": {
    "name": "ipython",
    "version": 3
   },
   "file_extension": ".py",
   "mimetype": "text/x-python",
   "name": "python",
   "nbconvert_exporter": "python",
   "pygments_lexer": "ipython3",
   "version": "3.8.10"
  }
 },
 "nbformat": 4,
 "nbformat_minor": 5
}
