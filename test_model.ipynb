{
 "cells": [
  {
   "cell_type": "code",
   "execution_count": 1,
   "id": "4f14052a",
   "metadata": {},
   "outputs": [],
   "source": [
    "import model, BeamFeatures"
   ]
  },
  {
   "cell_type": "code",
   "execution_count": 2,
   "id": "e0eff2c6",
   "metadata": {},
   "outputs": [],
   "source": [
    "m = model.GNNModel()"
   ]
  },
  {
   "cell_type": "code",
   "execution_count": 3,
   "id": "fcef95da",
   "metadata": {},
   "outputs": [],
   "source": [
    "bf = BeamFeatures.BeamFeatures('../beam_sps_sce_off.hdf5')"
   ]
  },
  {
   "cell_type": "code",
   "execution_count": 4,
   "id": "943bd969",
   "metadata": {},
   "outputs": [],
   "source": [
    "from torch_geometric.loader import DataLoader\n",
    "loader = DataLoader(bf,\n",
    "                    shuffle     = True,\n",
    "                    num_workers = 0,\n",
    "                    batch_size  = 2\n",
    "                    )"
   ]
  },
  {
   "cell_type": "code",
   "execution_count": 5,
   "id": "bbcdac1a",
   "metadata": {},
   "outputs": [],
   "source": [
    "data = next(iter(loader))"
   ]
  },
  {
   "cell_type": "code",
   "execution_count": 6,
   "id": "857e22f1",
   "metadata": {},
   "outputs": [
    {
     "data": {
      "text/plain": [
       "tensor([[0.5804],\n",
       "        [0.4453]], grad_fn=<SigmoidBackward0>)"
      ]
     },
     "execution_count": 6,
     "metadata": {},
     "output_type": "execute_result"
    }
   ],
   "source": [
    "m(data, data.batch) ##ADD SIGMOID AT OUTPUT"
   ]
  },
  {
   "cell_type": "code",
   "execution_count": null,
   "id": "c3e1431b",
   "metadata": {},
   "outputs": [],
   "source": []
  }
 ],
 "metadata": {
  "kernelspec": {
   "display_name": "Python 3 (ipykernel)",
   "language": "python",
   "name": "python3"
  },
  "language_info": {
   "codemirror_mode": {
    "name": "ipython",
    "version": 3
   },
   "file_extension": ".py",
   "mimetype": "text/x-python",
   "name": "python",
   "nbconvert_exporter": "python",
   "pygments_lexer": "ipython3",
   "version": "3.8.10"
  }
 },
 "nbformat": 4,
 "nbformat_minor": 5
}
